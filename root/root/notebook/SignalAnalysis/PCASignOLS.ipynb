{
 "cells": [
  {
   "cell_type": "markdown",
   "id": "12729a1b-aa29-400b-b53d-2103106549c2",
   "metadata": {},
   "source": [
    "# PCA OLS Sign"
   ]
  },
  {
   "cell_type": "markdown",
   "id": "22a7bc33-9bd0-4e2d-a011-8cfe9d16959a",
   "metadata": {},
   "source": [
    "In a prior notebook ```PCARawBacktest.ipynb``` the index was traded conditioned on the raw PC value. It was assumed that the raw PCs should be traded long. First start by seeing if that approach is reasonable via measuring the $\\beta$ of the OLS"
   ]
  },
  {
   "cell_type": "markdown",
   "id": "268c9736-a82a-4f15-8183-e36bec163970",
   "metadata": {},
   "source": [
    "## Packages"
   ]
  },
  {
   "cell_type": "code",
   "execution_count": 2,
   "id": "1ab2551a-90b1-4383-952d-69fa8fed6398",
   "metadata": {},
   "outputs": [],
   "source": [
    "import os\n",
    "import sys\n",
    "import numpy as np\n",
    "import pandas as pd\n",
    "import seaborn as sns\n",
    "import statsmodels.api as sm\n",
    "\n",
    "import matplotlib.pyplot as plt\n",
    "from   matplotlib.ticker import FuncFormatter"
   ]
  },
  {
   "cell_type": "code",
   "execution_count": 3,
   "id": "bfdb2449-5d52-4dbe-984a-99f9104058ff",
   "metadata": {},
   "outputs": [],
   "source": [
    "sys.path.append(r\"/Users/diegoalvarez/Desktop/research/FXCarryEconomicSurprise/root/src\")\n",
    "sys.path.append(r\"C:\\Users\\Diego\\Desktop\\app_prod\\research\\FXCarryCitiSurprise\\root\\src\")\n",
    "from CitiPCA import PCAModel"
   ]
  },
  {
   "cell_type": "code",
   "execution_count": 11,
   "id": "2cc1e6f0-b63b-49d3-b5eb-6fc179c6e243",
   "metadata": {},
   "outputs": [],
   "source": [
    "def _get_lag_signal(df: pd.DataFrame) -> pd.DataFrame: \n",
    "    \n",
    "    df_out = (df.sort_values(\n",
    "        \"date\").\n",
    "        assign(lag_signal = lambda x: x.value.shift()).\n",
    "        dropna())\n",
    "    \n",
    "    return df_out\n",
    "\n",
    "def get_data() -> pd.DataFrame:\n",
    "\n",
    "    keep_values = \"FXCARRSP\"\n",
    "\n",
    "    df_out = (PCAModel().get_misc_indices().query(\n",
    "        \"security == @keep_values\").\n",
    "        pivot(index = \"date\", columns = \"security\", values = \"rtn\").\n",
    "        merge(right = PCAModel().pca(), how = \"inner\", on = [\"date\"]).\n",
    "        drop(columns = [\"explained_variance_ratio\"]).\n",
    "        groupby(\"pc\").\n",
    "        apply(_get_lag_signal).\n",
    "        reset_index(drop = True))\n",
    "    \n",
    "    return df_out\n",
    "\n",
    "df = get_data()"
   ]
  },
  {
   "cell_type": "markdown",
   "id": "36854da4-fddd-451c-b547-ee8a035ed13a",
   "metadata": {},
   "source": [
    "## Full Sample OLS"
   ]
  },
  {
   "cell_type": "markdown",
   "id": "5b6d1636-7288-4c1d-b248-7efbda1d9aed",
   "metadata": {},
   "source": [
    "First start with a full sample OLS model of each PC. "
   ]
  },
  {
   "cell_type": "code",
   "execution_count": 64,
   "id": "6c392a87-a6ad-4566-9f5b-a8b81359d2d4",
   "metadata": {},
   "outputs": [],
   "source": [
    "def _get_full_sample_ols(df: pd.DataFrame) -> pd.DataFrame:\n",
    "    \n",
    "    df_tmp = (df.set_index(\n",
    "        \"date\"))\n",
    "    \n",
    "    model = (sm.OLS(\n",
    "        endog = df_tmp.FXCARRSP,\n",
    "        exog  = sm.add_constant(df_tmp.value)).\n",
    "        fit())\n",
    "    \n",
    "    df_value = (model.params.to_frame(\n",
    "        name = \"value\").\n",
    "        reset_index())\n",
    "    \n",
    "    df_pvalue = (model.pvalues.to_frame(\n",
    "        name = \"pvalue\").\n",
    "        reset_index())\n",
    "\n",
    "    df_out = (df_value.merge(\n",
    "        right = df_pvalue, how = \"inner\", on = [\"index\"]))\n",
    "    \n",
    "    return df_out\n",
    "\n",
    "def get_full_sample_ols(df: pd.DataFrame) -> pd.DataFrame: \n",
    "\n",
    "    df_out = (df.groupby(\n",
    "        \"pc\").\n",
    "        apply(_get_full_sample_ols).\n",
    "        reset_index().\n",
    "        drop(columns = [\"level_1\"]).\n",
    "        rename(columns = {\"index\": \"param\"}).\n",
    "        assign(param = lambda x: np.where(x.param == \"const\", \"alpha\", \"beta\")))\n",
    "    \n",
    "    return df_out\n",
    "\n",
    "df_params = get_full_sample_ols(df)"
   ]
  },
  {
   "cell_type": "code",
   "execution_count": 65,
   "id": "16de72d5-bc18-4dde-beaa-6cb5996caab8",
   "metadata": {},
   "outputs": [
    {
     "data": {
      "image/png": "[encoded data removed]",
      "text/plain": [
       "<Figure size 1440x432 with 2 Axes>"
      ]
     },
     "metadata": {
      "needs_background": "light"
     },
     "output_type": "display_data"
    }
   ],
   "source": [
    "def plot_beta_result(df_params: pd.DataFrame) -> plt.Figure: \n",
    "    \n",
    "    df_longer = (df_params.query(\n",
    "        \"param == 'beta'\").\n",
    "        drop(columns = [\"param\"]).\n",
    "        rename(columns = {\"value\": \"raw_value\"}).\n",
    "        melt(id_vars = \"pc\"))\n",
    "\n",
    "    variables = df_longer.variable.drop_duplicates().sort_values().to_list()\n",
    "    title_renamer = {\n",
    "        \"pvalue\"   : r\"$\\beta$\" + \" p-value t-test\",\n",
    "        \"raw_value\": \"raw \" + r\"$\\beta$\"}\n",
    "\n",
    "    ylabel_renamer = {\n",
    "        \"pvalue\"   : \"p-value t-test\",\n",
    "        \"raw_value\": r\"$\\beta$\"}\n",
    "\n",
    "    fig, axes = plt.subplots(ncols = len(variables), figsize = (20,6))\n",
    "\n",
    "    for variable, ax in zip(variables, axes.flatten()): \n",
    "\n",
    "        (df_longer.query(\n",
    "            \"variable == @variable\").\n",
    "            assign(tmp = lambda x: x.pc.str.replace(\"PC\", \"\").astype(int)).\n",
    "            sort_values(\"tmp\").\n",
    "            set_index(\"pc\")\n",
    "            [[\"value\"]].\n",
    "            plot(\n",
    "                ax     = ax,\n",
    "                kind   = \"bar\",\n",
    "                rot    = 0,\n",
    "                legend = False,\n",
    "                xlabel = \"\",\n",
    "                ylabel = ylabel_renamer[variable],\n",
    "                title  = title_renamer[variable]))\n",
    "        \n",
    "    fig.suptitle(\"Lagged Raw PC vs DB Carry Index Return OLS results\")\n",
    "    plt.tight_layout()\n",
    "    \n",
    "plot_beta_result(df_params)"
   ]
  },
  {
   "cell_type": "markdown",
   "id": "b9a39a16-40dc-43a2-8792-ebbee9e43a28",
   "metadata": {},
   "source": [
    "This is quite important as it implies that trading the index based on the raw PCs will likely not work, and assuming that the index can be traded based on the index was an innacurate assumption. "
   ]
  }
 ],
 "metadata": {
  "kernelspec": {
   "display_name": "Python 3 (ipykernel)",
   "language": "python",
   "name": "python3"
  },
  "language_info": {
   "codemirror_mode": {
    "name": "ipython",
    "version": 3
   },
   "file_extension": ".py",
   "mimetype": "text/x-python",
   "name": "python",
   "nbconvert_exporter": "python",
   "pygments_lexer": "ipython3",
   "version": "3.8.5"
  }
 },
 "nbformat": 4,
 "nbformat_minor": 5
}

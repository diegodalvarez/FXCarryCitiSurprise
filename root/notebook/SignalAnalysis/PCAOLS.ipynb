{
 "cells": [
  {
   "cell_type": "markdown",
   "id": "c1eeaa76-53bf-403a-ad46-5ac39acc3bb0",
   "metadata": {},
   "source": [
    "# Principal Component Analysis Regression"
   ]
  },
  {
   "cell_type": "markdown",
   "id": "018a7e17-59a5-48c7-8cba-1077ba9c7999",
   "metadata": {},
   "source": [
    "```PCARawBacketest.ipynb``` investigated trading the index based on being *long* each PC signal (equal weight). That proved to be an incorrect assumpption within ```PCASignOLS.ipynb``` which showed that the lag signals carry a small $\\beta$ to the return and high p-values. All hope isn't lost although, trading the residuals of the signal (regressing signal against return) generated sizable and repetable profits. This notebook will investigate that model"
   ]
  },
  {
   "cell_type": "markdown",
   "id": "6a9c0da2-aec9-474f-9270-7887746e15cb",
   "metadata": {},
   "source": [
    "## Packages"
   ]
  },
  {
   "cell_type": "code",
   "execution_count": 1,
   "id": "ebc7d68f-1304-4475-856e-7589583d6b0d",
   "metadata": {},
   "outputs": [],
   "source": [
    "import os\n",
    "import sys\n",
    "import numpy as np\n",
    "import pandas as pd\n",
    "import statsmodels.api as sm\n",
    "from   sklearn.decomposition import PCA\n",
    "\n",
    "import matplotlib.pyplot as plt\n",
    "from   matplotlib.ticker import FuncFormatter"
   ]
  },
  {
   "cell_type": "code",
   "execution_count": 2,
   "id": "158c1bec-0e85-457f-9aa7-63a5217d587c",
   "metadata": {},
   "outputs": [],
   "source": [
    "sys.path.append(r\"/Users/diegoalvarez/Desktop/research/FXCarryEconomicSurprise/root/src\")\n",
    "sys.path.append(r\"C:\\Users\\Diego\\Desktop\\app_prod\\research\\FXCarryCitiSurprise\\root\\src\")\n",
    "from CitiPCA import PCAModel"
   ]
  },
  {
   "cell_type": "code",
   "execution_count": 3,
   "id": "52aaa295-e567-43a0-a95f-bb47b2d2e40e",
   "metadata": {},
   "outputs": [],
   "source": [
    "def get_data() -> pd.DataFrame:\n",
    "\n",
    "    keep_values = \"FXCARRSP\"\n",
    "\n",
    "    df_out = (PCAModel().get_misc_indices().query(\n",
    "        \"security == @keep_values\").\n",
    "        pivot(index = \"date\", columns = \"security\", values = \"rtn\").\n",
    "        merge(right = PCAModel().pca(), how = \"inner\", on = [\"date\"]).\n",
    "        drop(columns = [\"explained_variance_ratio\"]))\n",
    "    \n",
    "    return df_out\n",
    "\n",
    "df = get_data()"
   ]
  },
  {
   "cell_type": "code",
   "execution_count": 4,
   "id": "33b66f3d-b74b-496d-9deb-c97088bade7f",
   "metadata": {},
   "outputs": [],
   "source": [
    "def _get_full_sample_ols(df: pd.DataFrame) -> pd.DataFrame: \n",
    "    \n",
    "    df_tmp = (df.set_index(\n",
    "        \"date\").\n",
    "        sort_index())\n",
    "    \n",
    "    model = (sm.OLS(\n",
    "        endog = df_tmp.FXCARRSP,\n",
    "        exog  = sm.add_constant(df_tmp.value)).\n",
    "        fit())\n",
    "    \n",
    "    df_params = (model.params.to_frame(\n",
    "        name = \"raw_value\").\n",
    "        reset_index())\n",
    "    \n",
    "    df_pvalues = (model.pvalues.to_frame(\n",
    "        name = \"pvalues\").\n",
    "        reset_index())\n",
    "    \n",
    "    df_out = (df_params.merge(\n",
    "        right = df_pvalues, how = \"inner\", on = [\"index\"]).\n",
    "        rename(columns = {\"index\": \"param\"}).\n",
    "        assign(param = lambda x: np.where(x.param == \"const\", \"alpha\", \"beta\")))\n",
    "    \n",
    "    return df_out\n",
    "\n",
    "def get_full_sample_ols(df: pd.DataFrame) -> pd.DataFrame: \n",
    "    \n",
    "    df_params = (df.groupby(\n",
    "        \"pc\").\n",
    "        apply(_get_full_sample_ols).\n",
    "        reset_index().\n",
    "        drop(columns = [\"level_1\"]))\n",
    "    \n",
    "    return df_params\n",
    "\n",
    "df_params = get_full_sample_ols(df)"
   ]
  },
  {
   "cell_type": "code",
   "execution_count": 5,
   "id": "82027e26-0286-4a50-9d1e-8391139f6e10",
   "metadata": {},
   "outputs": [
    {
     "data": {
      "image/png": "[encoded data removed]",
      "text/plain": [
       "<Figure size 1440x432 with 2 Axes>"
      ]
     },
     "metadata": {
      "needs_background": "light"
     },
     "output_type": "display_data"
    }
   ],
   "source": [
    "def plot_beta_result(df_params: pd.DataFrame) -> plt.Figure: \n",
    "    \n",
    "    df_longer = (df_params.query(\n",
    "        \"param == 'beta'\").\n",
    "        drop(columns = [\"param\"]).\n",
    "        rename(columns = {\"value\": \"raw_value\"}).\n",
    "        melt(id_vars = \"pc\"))\n",
    "    \n",
    "    variables = df_longer.variable.drop_duplicates().sort_values().to_list()\n",
    "    title_renamer = {\n",
    "        \"pvalues\"   : r\"$\\beta$\" + \" p-value t-test\",\n",
    "        \"raw_value\": \"raw \" + r\"$\\beta$\"}\n",
    "\n",
    "    ylabel_renamer = {\n",
    "        \"pvalues\"   : \"p-value t-test\",\n",
    "        \"raw_value\": r\"$\\beta$\"}\n",
    "\n",
    "    fig, axes = plt.subplots(ncols = len(variables), figsize = (20,6))\n",
    "\n",
    "    for variable, ax in zip(variables, axes.flatten()): \n",
    "\n",
    "        (df_longer.query(\n",
    "            \"variable == @variable\").\n",
    "            assign(tmp = lambda x: x.pc.str.replace(\"PC\", \"\").astype(int)).\n",
    "            sort_values(\"tmp\").\n",
    "            set_index(\"pc\")\n",
    "            [[\"value\"]].\n",
    "            plot(\n",
    "                ax     = ax,\n",
    "                kind   = \"bar\",\n",
    "                rot    = 0,\n",
    "                legend = False,\n",
    "                xlabel = \"\",\n",
    "                ylabel = ylabel_renamer[variable],\n",
    "                title  = title_renamer[variable]))\n",
    "        \n",
    "    fig.suptitle(\"Raw PC vs DB Carry Index Return OLS results\")\n",
    "    plt.tight_layout()\n",
    "    \n",
    "plot_beta_result(df_params)"
   ]
  },
  {
   "cell_type": "markdown",
   "id": "2f1c0344-4715-4bc3-84b0-69aa9efe6840",
   "metadata": {},
   "source": [
    "These also fail to meet the conditions for them being acceptable."
   ]
  },
  {
   "cell_type": "code",
   "execution_count": null,
   "id": "b0b8f89d-a043-4cdd-9e3d-665bdf7e27a0",
   "metadata": {},
   "outputs": [],
   "source": []
  }
 ],
 "metadata": {
  "kernelspec": {
   "display_name": "Python 3 (ipykernel)",
   "language": "python",
   "name": "python3"
  },
  "language_info": {
   "codemirror_mode": {
    "name": "ipython",
    "version": 3
   },
   "file_extension": ".py",
   "mimetype": "text/x-python",
   "name": "python",
   "nbconvert_exporter": "python",
   "pygments_lexer": "ipython3",
   "version": "3.8.5"
  }
 },
 "nbformat": 4,
 "nbformat_minor": 5
}
